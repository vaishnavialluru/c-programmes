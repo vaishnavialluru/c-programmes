{
  "nbformat": 4,
  "nbformat_minor": 0,
  "metadata": {
    "colab": {
      "name": "Untitled6.ipynb",
      "provenance": [],
      "authorship_tag": "ABX9TyNhjEIjHE1SEV1sx1L70m9Z",
      "include_colab_link": true
    },
    "kernelspec": {
      "name": "python3",
      "display_name": "Python 3"
    },
    "language_info": {
      "name": "python"
    }
  },
  "cells": [
    {
      "cell_type": "markdown",
      "metadata": {
        "id": "view-in-github",
        "colab_type": "text"
      },
      "source": [
        "<a href=\"https://colab.research.google.com/github/vaishnavialluru/c-programmes/blob/main/Untitled6.ipynb\" target=\"_parent\"><img src=\"https://colab.research.google.com/assets/colab-badge.svg\" alt=\"Open In Colab\"/></a>"
      ]
    },
    {
      "cell_type": "code",
      "execution_count": 6,
      "metadata": {
        "colab": {
          "base_uri": "https://localhost:8080/"
        },
        "id": "dxCGRypDbc_X",
        "outputId": "a9293d13-eba1-4af5-c511-9c42b7aea838"
      },
      "outputs": [
        {
          "name": "stdout",
          "output_type": "stream",
          "text": [
            "enter a number4\n",
            "enter a number56\n",
            "enter a number78\n",
            "enter a number94\n",
            "enter a number80\n"
          ]
        }
      ],
      "source": [
        "a=int(input(\"enter a number\"))\n",
        "b=int(input(\"enter a number\"))\n",
        "c=int(input(\"enter a number\"))\n",
        "d=int(input(\"enter a number\"))\n",
        "e=int(input(\"enter a number\"))\n",
        "sum=a+b+c+d+e/5\n",
        "if sum==90:\n",
        "  print(\"a+\")\n",
        "elif sum<90:\n",
        " print(\"a\")\n",
        "elif sum<80: \n",
        " print(\"b+\")\n",
        "elif sum<70:\n",
        "  print(\"b\")\n",
        "elif sum<60:\n",
        "  print(\"c\")\n",
        "elif sum<50:\n",
        "    print(\"fail\")\n",
        "\n",
        "\n"
      ]
    },
    {
      "cell_type": "code",
      "source": [
        ""
      ],
      "metadata": {
        "id": "NWjr0NFrfUD5"
      },
      "execution_count": null,
      "outputs": []
    },
    {
      "cell_type": "code",
      "source": [
        "create table hospital((\"hospital name\"char[12],\"staf department\"char[12],\"rooms\"int[12],\"location\"char[12]))\n",
        "insert values into hospital(\"apolo\",\"nurse\",\"201\",\"vizag\")\n",
        "insert values into hospital(\"care\",\"doctor\",\"206\",\"vijaywada\")\n",
        "insert values into hospital(\"gitam\",\"receptionist\",\"305\",\"hyd\")\n",
        "insert values into hospital(\"7hills\",\"doctor\",\"111\",\"vizag\")\n",
        "insert values into hospital(\"rk\",\"nurse\",\"100\",\"guntur\")\n"
      ],
      "metadata": {
        "id": "m3n2Yjd0fVYF"
      },
      "execution_count": null,
      "outputs": []
    },
    {
      "cell_type": "code",
      "source": [
        "a=[]\n",
        "i=int(input(\"enter range\"))\n",
        "for j in range (0,i):\n",
        "  j=int(input(j))\n",
        "  a.append[j]\n",
        "  for b in range(0,i):\n",
        "    print (a[b])\n",
        "    b=b+2"
      ],
      "metadata": {
        "colab": {
          "base_uri": "https://localhost:8080/"
        },
        "id": "93fc1rR1eO8E",
        "outputId": "078a6e23-754c-49e0-8cfb-d2480b05444f"
      },
      "execution_count": 7,
      "outputs": [
        {
          "name": "stdout",
          "output_type": "stream",
          "text": [
            "enter range0\n"
          ]
        }
      ]
    }
  ]
}