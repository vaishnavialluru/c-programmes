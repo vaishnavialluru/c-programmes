{
  "nbformat": 4,
  "nbformat_minor": 0,
  "metadata": {
    "colab": {
      "name": "assignment1.ipynb",
      "provenance": [],
      "authorship_tag": "ABX9TyPTStAlwkd88Jloi5SvIVVW",
      "include_colab_link": true
    },
    "kernelspec": {
      "name": "python3",
      "display_name": "Python 3"
    },
    "language_info": {
      "name": "python"
    }
  },
  "cells": [
    {
      "cell_type": "markdown",
      "metadata": {
        "id": "view-in-github",
        "colab_type": "text"
      },
      "source": [
        "<a href=\"https://colab.research.google.com/github/vaishnavialluru/c-programmes/blob/main/assignment1.ipynb\" target=\"_parent\"><img src=\"https://colab.research.google.com/assets/colab-badge.svg\" alt=\"Open In Colab\"/></a>"
      ]
    },
    {
      "cell_type": "markdown",
      "source": [
        "Accept input from user and store it in variable and print the value"
      ],
      "metadata": {
        "id": "RbyyvdNReCvt"
      }
    },
    {
      "cell_type": "code",
      "source": [
        "y=input()\n",
        "print(y)"
      ],
      "metadata": {
        "colab": {
          "base_uri": "https://localhost:8080/"
        },
        "id": "DnSB6YQWeJYu",
        "outputId": "aaadea96-44a8-4b66-9c12-c752177f130f"
      },
      "execution_count": 1,
      "outputs": [
        {
          "output_type": "stream",
          "name": "stdout",
          "text": [
            "8\n",
            "8\n"
          ]
        }
      ]
    },
    {
      "cell_type": "markdown",
      "source": [
        "Use of print statements and use of (.format )for printing different data types\n"
      ],
      "metadata": {
        "id": "3nJPS-8meaZo"
      }
    },
    {
      "cell_type": "code",
      "source": [
        "a=15.5;\n",
        "print(type(a));\n",
        "#before conversion\n",
        "b=str(a);\n",
        "print(b);\n",
        "print(type(b));\n",
        "#after conversion\n",
        "e=complex(a);\n",
        "print(e);\n",
        "print(type(e));\n",
        "c=int(a);\n",
        "print(c);\n",
        "print(type(c));\n",
        "d=bool(a);\n",
        "print(d);\n",
        "print(type(d));\n"
      ],
      "metadata": {
        "colab": {
          "base_uri": "https://localhost:8080/"
        },
        "id": "PPb8Onn9egTa",
        "outputId": "d76204c0-ae78-4f92-fd48-1f6edc72d91f"
      },
      "execution_count": 6,
      "outputs": [
        {
          "output_type": "stream",
          "name": "stdout",
          "text": [
            "<class 'float'>\n",
            "15.5\n",
            "<class 'str'>\n",
            "(15.5+0j)\n",
            "<class 'complex'>\n",
            "15\n",
            "<class 'int'>\n",
            "True\n",
            "<class 'bool'>\n"
          ]
        }
      ]
    },
    {
      "cell_type": "markdown",
      "source": [
        "Take 2 numbers as user input and add, multiply, divide, subtract, remainder and print the output"
      ],
      "metadata": {
        "id": "1Toc0n6cevtY"
      }
    },
    {
      "cell_type": "code",
      "source": [
        "no1=int(input())\n",
        "no2=int(input())\n",
        "sum=no1+no2\n",
        "multi=no1*no2\n",
        "div=no1/no2\n",
        "sub=no1-no2\n",
        "print(sum,multi,div,sub)"
      ],
      "metadata": {
        "colab": {
          "base_uri": "https://localhost:8080/"
        },
        "id": "5GIALSEtezTk",
        "outputId": "4183ea31-45f8-4109-d6fa-e2ae1e6f5156"
      },
      "execution_count": 3,
      "outputs": [
        {
          "output_type": "stream",
          "name": "stdout",
          "text": [
            "85\n",
            "55\n",
            "140 4675 1.5454545454545454 30\n"
          ]
        }
      ]
    },
    {
      "cell_type": "markdown",
      "source": [
        "Conversion of one unit to another (such as hours to minutes, miles to km and etc)"
      ],
      "metadata": {
        "id": "uccd0NpIfBGo"
      }
    },
    {
      "cell_type": "code",
      "source": [
        "hour=int(input())\n",
        "miles=int(input())\n",
        "min=hour*60\n",
        "km=1.60934*miles\n",
        "print(min,km)"
      ],
      "metadata": {
        "colab": {
          "base_uri": "https://localhost:8080/"
        },
        "id": "PSqtEqAhfHBC",
        "outputId": "62f43fe4-6c56-4fd3-e064-ae6466152426"
      },
      "execution_count": 4,
      "outputs": [
        {
          "output_type": "stream",
          "name": "stdout",
          "text": [
            "7\n",
            "8\n",
            "420 12.87472\n"
          ]
        }
      ]
    },
    {
      "cell_type": "markdown",
      "source": [
        "Usage of mathematical functions in python like math.ceil, floor, fabs, fmod, trunc,pow, sqrt etc\n"
      ],
      "metadata": {
        "id": "ZbE0QAH6fSpC"
      }
    },
    {
      "cell_type": "code",
      "source": [
        "import math\n",
        "print(math.ceil(8.4))\n",
        "print(math.floor(7.4))\n",
        "print(math.fabs(-90))\n",
        "print(math.fmod(12, 4))\n",
        "print(math.trunc(7.77))\n",
        "y = pow(5, 2)\n",
        "print(y)\n",
        "print (math.sqrt(49))"
      ],
      "metadata": {
        "colab": {
          "base_uri": "https://localhost:8080/"
        },
        "id": "N31SYI5ggDTk",
        "outputId": "738828a4-a83f-4e9e-9432-857c26b64c8e"
      },
      "execution_count": 5,
      "outputs": [
        {
          "output_type": "stream",
          "name": "stdout",
          "text": [
            "9\n",
            "7\n",
            "90.0\n",
            "0.0\n",
            "7\n",
            "25\n",
            "7.0\n"
          ]
        }
      ]
    },
    {
      "cell_type": "markdown",
      "source": [
        "Building a mathematical calculator that can perform operations according to user input.\n",
        "\n"
      ],
      "metadata": {
        "id": "11zn27d0gtbR"
      }
    },
    {
      "cell_type": "code",
      "source": [
        "no1 = float(input(\"Enter 1st number: \"))\n",
        "no2 = float(input(\"Enter 2nd number: \"))\n",
        "print(\"Operation: +, -, *, /\")\n",
        "select = input(\"Select operations: \")\n",
        "if select == \"+\":\n",
        "    print(no1, \"+\", no2, \"=\", no1+no2)\n",
        "elif select == \"-\":\n",
        "    print(no1, \"-\", no2, \"=\", no1-no2)\n",
        "elif select == \"*\":\n",
        "    print(no1, \"*\", no2, \"=\", no1*no2)\n",
        "elif select == \"/\":\n",
        "    print(no1, \"/\", no2, \"=\", no1/no2)\n",
        "else:\n",
        "    print(\"Invalid input\")"
      ],
      "metadata": {
        "colab": {
          "base_uri": "https://localhost:8080/"
        },
        "id": "7zBygXk9hbho",
        "outputId": "fc6f74af-d379-45cb-cbbd-2736b0ca0301"
      },
      "execution_count": 7,
      "outputs": [
        {
          "output_type": "stream",
          "name": "stdout",
          "text": [
            "Enter 1st number: 7\n",
            "Enter 2nd number: 9\n",
            "Operation: +, -, *, /\n",
            "Select operations: /\n",
            "7.0 / 9.0 = 0.7777777777777778\n"
          ]
        }
      ]
    },
    {
      "cell_type": "markdown",
      "source": [
        "Accepting 5 different subject marks from user and displaying the grade of the student"
      ],
      "metadata": {
        "id": "wHZOiQQIhksJ"
      }
    },
    {
      "cell_type": "code",
      "source": [
        "eng=int(input())\n",
        "phy=int(input())\n",
        "evpr=int(input())\n",
        "chem=int(input())\n",
        "math=int(input())\n",
        "tot=(eng+phy+evpr+chem+math)/5\n",
        "if tot > 90:\n",
        "  print(\"A\")\n",
        "elif tot > 80 :\n",
        "  print(\"B\")\n",
        "elif tot > 70 :\n",
        "  print(\"C\")\n",
        "elif tot > 60 :\n",
        "  print(\"D\")    \n",
        "elif tot > 50 :\n",
        "  print(\"E\")\n",
        "elif tot > 40 :\n",
        "  print(\"F\")86"
      ],
      "metadata": {
        "colab": {
          "base_uri": "https://localhost:8080/"
        },
        "id": "KA7j3xuIhpgK",
        "outputId": "a64cc606-351f-49d4-b451-2c7ab9118a21"
      },
      "execution_count": 8,
      "outputs": [
        {
          "output_type": "stream",
          "name": "stdout",
          "text": [
            "90\n",
            "7\n",
            "3\n",
            "55\n",
            "99\n",
            "E\n"
          ]
        }
      ]
    },
    {
      "cell_type": "markdown",
      "source": [
        "Printing all even numbers, odd numbers, count of even numbers, count of odd numbers within a given range."
      ],
      "metadata": {
        "id": "qEC5y3jfh13r"
      }
    },
    {
      "cell_type": "code",
      "source": [
        "no1=int(input())\n",
        "no2=int(input())\n",
        "c=0  #c is count of even numbers\n",
        "o=0 \n",
        "for x in range(no1,no2):\n",
        "  if(x%2==0) :\n",
        "    print(x)\n",
        "    c=c+1\n",
        "  elif(x%2!=0) :\n",
        "    print(\"0is odd\",x)\n",
        "    o=o+1\n",
        "print(c)\n",
        "print(o)"
      ],
      "metadata": {
        "colab": {
          "base_uri": "https://localhost:8080/"
        },
        "id": "FZiVocwoh7lU",
        "outputId": "417b3c01-6d56-4d99-b4b6-ecb79bad2b49"
      },
      "execution_count": 12,
      "outputs": [
        {
          "output_type": "stream",
          "name": "stdout",
          "text": [
            "6\n",
            "9\n",
            "6\n",
            "0is odd 7\n",
            "8\n",
            "2\n",
            "1\n"
          ]
        }
      ]
    },
    {
      "cell_type": "markdown",
      "source": [
        "Compute the factorial of a given number"
      ],
      "metadata": {
        "id": "5CBSP3sYiRdm"
      }
    },
    {
      "cell_type": "code",
      "source": [
        "number = int(input(\"Enter a no: \"))    \n",
        "factorial = 1    \n",
        "if number < 0:    \n",
        "   print(\" Factorial does not exist for negative nos\")    \n",
        "elif number == 0:    \n",
        "   print(\"The factorial of 0 is 1\")    \n",
        "else:    \n",
        "   for i in range(1,number + 1):    \n",
        "       factorial = factorial*i    \n",
        "   print(\"The factorial of\",number,\"is\",factorial) "
      ],
      "metadata": {
        "colab": {
          "base_uri": "https://localhost:8080/"
        },
        "id": "-_d-CxlKiVQ0",
        "outputId": "56746723-5677-405b-cc4c-aee0932371be"
      },
      "execution_count": 13,
      "outputs": [
        {
          "output_type": "stream",
          "name": "stdout",
          "text": [
            "Enter a no: 8\n",
            "The factorial of 8 is 40320\n"
          ]
        }
      ]
    },
    {
      "cell_type": "markdown",
      "source": [
        "Compute GCD of two given numbers"
      ],
      "metadata": {
        "id": "X_Zwebg9i8z4"
      }
    },
    {
      "cell_type": "code",
      "source": [
        "x =int(input(\"Enter a no: \")) \n",
        "y =int(input(\"Enter a no: \"))\n",
        "if x > y:\n",
        "  x, y = x, y\n",
        "for i in range(1,x+1):\n",
        "  if x%i == 0 and y%i == 0:\n",
        "    gcd = i\n",
        "\n",
        "print(\"GCD of\", x, \"and\", y, \"is:\", gcd)"
      ],
      "metadata": {
        "colab": {
          "base_uri": "https://localhost:8080/"
        },
        "id": "25gLDfs5jBvf",
        "outputId": "8fba37b2-9373-48f1-a090-2538f6e0f700"
      },
      "execution_count": 14,
      "outputs": [
        {
          "output_type": "stream",
          "name": "stdout",
          "text": [
            "Enter a no: 4\n",
            "Enter a no: 6\n",
            "GCD of 4 and 6 is: 2\n"
          ]
        }
      ]
    },
    {
      "cell_type": "markdown",
      "source": [
        "Generate Fibonacci series up to N numbers\n"
      ],
      "metadata": {
        "id": "T2JrjVvnjcVL"
      }
    },
    {
      "cell_type": "code",
      "source": [
        "n = int(input())\n",
        "num1, num2 = 0, 1\n",
        "c = 0\n",
        "print(\"Fibonacci sequence:\")\n",
        "while d < n:\n",
        "       print(num1)\n",
        "       nth = num1 + num2\n",
        "       num1 = num2\n",
        "       num2 = nth\n",
        "       d += 1"
      ],
      "metadata": {
        "colab": {
          "base_uri": "https://localhost:8080/"
        },
        "id": "FqZTPkFWjian",
        "outputId": "8ad521c2-ff11-4502-8a31-accd1b85733d"
      },
      "execution_count": 16,
      "outputs": [
        {
          "output_type": "stream",
          "name": "stdout",
          "text": [
            "8\n",
            "Fibonacci sequence:\n",
            "0\n",
            "1\n"
          ]
        }
      ]
    },
    {
      "cell_type": "markdown",
      "source": [
        "Check whether the given input is palindrome"
      ],
      "metadata": {
        "id": "l9TAdenHj1rW"
      }
    },
    {
      "cell_type": "code",
      "source": [
        "no=int(input(\"Enter a nober:\"))\n",
        "x=no\n",
        "reverse=0\n",
        "while(no>0):\n",
        "    dgiit=no%10\n",
        "    reverse=reverse*10+dgiit\n",
        "    no=no//10\n",
        "if(x==reverse):\n",
        "    print(\"It is a palindrome!\")\n",
        "else:\n",
        "    print(\"Not a palindrome!\")"
      ],
      "metadata": {
        "colab": {
          "base_uri": "https://localhost:8080/"
        },
        "id": "lEMCDl0_j5lA",
        "outputId": "f0d5f426-9d65-4247-c1ec-2fcfd9c6bafd"
      },
      "execution_count": 17,
      "outputs": [
        {
          "output_type": "stream",
          "name": "stdout",
          "text": [
            "Enter a nober:9\n",
            "It is a palindrome!\n"
          ]
        }
      ]
    },
    {
      "cell_type": "markdown",
      "source": [
        "Check whether the given input is strong"
      ],
      "metadata": {
        "id": "W8XPUEaikM4l"
      }
    },
    {
      "cell_type": "code",
      "source": [
        "num=int(input(\"Enter a number:\"))\n",
        "sum=0\n",
        "act=num\n",
        "while(num):\n",
        "    i=1\n",
        "    f=1\n",
        "    r=num%10\n",
        "    while(i<=r):\n",
        "        f=f*i\n",
        "        i=i+1\n",
        "    sum=sum+f\n",
        "    num=num//10\n",
        "if(sum==act):\n",
        "    print(\"The number is a strong number\")\n",
        "else:\n",
        "    print(\"The number is not a strong number\")"
      ],
      "metadata": {
        "colab": {
          "base_uri": "https://localhost:8080/"
        },
        "id": "zzIsVYgpkSrs",
        "outputId": "f53d0b51-b252-4d41-99bb-720654f7e2bc"
      },
      "execution_count": 18,
      "outputs": [
        {
          "output_type": "stream",
          "name": "stdout",
          "text": [
            "Enter a number:4\n",
            "The number is not a strong number\n"
          ]
        }
      ]
    },
    {
      "cell_type": "markdown",
      "source": [
        "Check whether the given input is perfect"
      ],
      "metadata": {
        "id": "7HEgfoCVkg9Q"
      }
    },
    {
      "cell_type": "code",
      "source": [
        "no=int(input(\"Enter a number:\"))\n",
        "x=0\n",
        "for i in range(1, no):\n",
        "    if(no % i == 0):\n",
        "        x = x + i\n",
        "if (x == no):\n",
        "    print(\"Perfect nober\")\n",
        "else:\n",
        "    print(\"not a Perfect nober\")"
      ],
      "metadata": {
        "colab": {
          "base_uri": "https://localhost:8080/"
        },
        "id": "Cv1mzAJ5kkcI",
        "outputId": "b75fc45f-6706-4bbe-ae9e-eda1ce932ddb"
      },
      "execution_count": 21,
      "outputs": [
        {
          "output_type": "stream",
          "name": "stdout",
          "text": [
            "Enter a number:7\n",
            "not a Perfect nober\n"
          ]
        }
      ]
    },
    {
      "cell_type": "markdown",
      "source": [
        "Compute compound interest using loop for a certain principal and interest amount"
      ],
      "metadata": {
        "id": "7tglHjU6lC32"
      }
    },
    {
      "cell_type": "code",
      "source": [
        "x=int(input(\"principle amount:\"))\n",
        "rate=int(input(\"rate:\"))\n",
        "years=int(input(\"number of years:\"))\n",
        "for i in range(years):\n",
        "    x=x+((x*rate)/100)\n",
        "print(x)"
      ],
      "metadata": {
        "colab": {
          "base_uri": "https://localhost:8080/"
        },
        "id": "Ao6pDZZnlES0",
        "outputId": "35b1b8e9-7a21-4b67-fdf9-5217385fbdb4"
      },
      "execution_count": 24,
      "outputs": [
        {
          "output_type": "stream",
          "name": "stdout",
          "text": [
            "principle amount:5\n",
            "rate:3\n",
            "number of years:1\n",
            "5.15\n"
          ]
        }
      ]
    }
  ]
}